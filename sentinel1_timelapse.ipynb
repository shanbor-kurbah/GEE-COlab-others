{
  "nbformat": 4,
  "nbformat_minor": 0,
  "metadata": {
    "colab": {
      "provenance": []
    },
    "kernelspec": {
      "name": "python3",
      "display_name": "Python 3"
    },
    "language_info": {
      "name": "python"
    }
  },
  "cells": [
    {
      "cell_type": "markdown",
      "source": [
        "<a href=\"https://githubtocolab.com/shanbor-kurbah/GEE-COlab-others/blob/main/sentinel1_timelapse.ipynb\" target=\"_parent\"><img src=\"https://colab.research.google.com/assets/colab-badge.svg\" alt=\"Open in Colab\"/></a>\n",
        "\n",
        "**Creating Sentinel-1 SAR imagery timelapse**\n",
        "\n",
        "Uncomment the following line to install [geemap](https://geemap.org) if needed."
      ],
      "metadata": {
        "id": "wPFUQmNfNFLz"
      }
    },
    {
      "cell_type": "code",
      "source": [
        "# !pip install -U geemap"
      ],
      "metadata": {
        "id": "0ZvivY79Ndtq"
      },
      "execution_count": null,
      "outputs": []
    },
    {
      "cell_type": "code",
      "source": [
        "import ee\n",
        "import geemap"
      ],
      "metadata": {
        "id": "NJovLx5HNgra"
      },
      "execution_count": null,
      "outputs": []
    },
    {
      "cell_type": "code",
      "source": [
        "Map = geemap.Map()\n",
        "Map"
      ],
      "metadata": {
        "id": "8ufFyBWcNiv6"
      },
      "execution_count": null,
      "outputs": []
    },
    {
      "cell_type": "markdown",
      "source": [
        "Pan and zoom to an area of interest and draw a rectangle on the map."
      ],
      "metadata": {
        "id": "Kmp-Sr-3Nk2K"
      }
    },
    {
      "cell_type": "code",
      "source": [
        "roi = Map.user_roi\n",
        "if roi is None:\n",
        "    roi = ee.Geometry.BBox(117.1132, 3.5227, 117.2214, 3.5843)\n",
        "    Map.addLayer(roi)\n",
        "    Map.centerObject(roi)"
      ],
      "metadata": {
        "id": "MVafPdCSNnBS"
      },
      "execution_count": null,
      "outputs": []
    },
    {
      "cell_type": "code",
      "source": [
        "timelapse = geemap.sentinel1_timelapse(\n",
        "    roi,\n",
        "    out_gif=\"sentinel1.gif\",\n",
        "    start_year=2019,\n",
        "    end_year=2019,\n",
        "    start_date=\"04-01\",\n",
        "    end_date=\"08-01\",\n",
        "    frequency=\"day\",\n",
        "    vis_params={\"min\": -30, \"max\": 0},\n",
        "    palette=\"Greys\",\n",
        "    frames_per_second=3,\n",
        "    title=\"Sentinel-1 Timelapse\",\n",
        "    add_colorbar=True,\n",
        "    colorbar_bg_color=\"gray\",\n",
        ")"
      ],
      "metadata": {
        "id": "399kCpGSNn-a"
      },
      "execution_count": null,
      "outputs": []
    },
    {
      "cell_type": "code",
      "source": [
        "geemap.show_image(timelapse)"
      ],
      "metadata": {
        "id": "Yd5qoPekNrra"
      },
      "execution_count": null,
      "outputs": []
    }
  ]
}