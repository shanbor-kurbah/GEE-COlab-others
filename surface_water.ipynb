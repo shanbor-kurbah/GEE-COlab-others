{
  "nbformat": 4,
  "nbformat_minor": 0,
  "metadata": {
    "colab": {
      "provenance": []
    },
    "kernelspec": {
      "name": "python3",
      "display_name": "Python 3"
    },
    "language_info": {
      "name": "python"
    }
  },
  "cells": [
    {
      "cell_type": "markdown",
      "source": [
        "### Automated mapping of surface water in the NORTH EAST Region of India using Google Earth Engine cloud computing"
      ],
      "metadata": {
        "id": "iW5hvC9KpJMI"
      }
    },
    {
      "cell_type": "markdown",
      "source": [
        "<h1>Contents<span class=\"tocSkip\"></span></h1>\n",
        "<div class=\"toc\"><ul class=\"toc-item\"><li><span><a href=\"#Install-geemap\" data-toc-modified-id=\"Install-geemap-1\"><span class=\"toc-item-num\">1&nbsp;&nbsp;</span>Install geemap</a></span></li><li><span><a href=\"#Create-an-interactive-map\" data-toc-modified-id=\"Create-an-interactive-map-2\"><span class=\"toc-item-num\">2&nbsp;&nbsp;</span>Create an interactive map</a></span></li><li><span><a href=\"#Define-region-of-interest-(ROI)\" data-toc-modified-id=\"Define-region-of-interest-(ROI)-3\"><span class=\"toc-item-num\">3&nbsp;&nbsp;</span>Define region of interest (ROI)</a></span></li><li><span><a href=\"#Create-Landsat-timeseries\" data-toc-modified-id=\"Create-Landsat-timeseries-4\"><span class=\"toc-item-num\">4&nbsp;&nbsp;</span>Create Landsat timeseries</a></span></li><li><span><a href=\"#Calculate-Normalized-Difference-Water-Index-(NDWI)\" data-toc-modified-id=\"Calculate-Normalized-Difference-Water-Index-(NDWI)-5\"><span class=\"toc-item-num\">5&nbsp;&nbsp;</span>Calculate Normalized Difference Water Index (NDWI)</a></span></li><li><span><a href=\"#Extract-surface-water-extent\" data-toc-modified-id=\"Extract-surface-water-extent-6\"><span class=\"toc-item-num\">6&nbsp;&nbsp;</span>Extract surface water extent</a></span></li><li><span><a href=\"#Calculate-surface-water-areas\" data-toc-modified-id=\"Calculate-surface-water-areas-7\"><span class=\"toc-item-num\">7&nbsp;&nbsp;</span>Calculate surface water areas</a></span></li><li><span><a href=\"#Plot-temporal-trend\" data-toc-modified-id=\"Plot-temporal-trend-8\"><span class=\"toc-item-num\">8&nbsp;&nbsp;</span>Plot temporal trend</a></span></li></ul></div>"
      ],
      "metadata": {
        "id": "G98aRNAZplV_"
      }
    },
    {
      "cell_type": "markdown",
      "source": [
        "### Install geemap"
      ],
      "metadata": {
        "id": "argdp63DpuyY"
      }
    },
    {
      "cell_type": "code",
      "execution_count": 1,
      "metadata": {
        "id": "OehBkGs2o7nk"
      },
      "outputs": [],
      "source": [
        "# Installs geemap package\n",
        "import subprocess\n",
        "\n",
        "try:\n",
        "    import geemap\n",
        "except ImportError:\n",
        "    print(\"geemap package not installed. Installing ...\")\n",
        "    subprocess.check_call([\"python\", \"-m\", \"pip\", \"install\", \"geemap\"])"
      ]
    },
    {
      "cell_type": "code",
      "source": [
        "import ee\n",
        "import geemap"
      ],
      "metadata": {
        "colab": {
          "base_uri": "https://localhost:8080/",
          "height": 17
        },
        "id": "bK9KVSTqp93T",
        "outputId": "1592ca0f-f24c-44bc-843b-2e4d948e2c71"
      },
      "execution_count": 2,
      "outputs": [
        {
          "output_type": "display_data",
          "data": {
            "text/plain": [
              "<IPython.core.display.HTML object>"
            ],
            "text/html": [
              "\n",
              "            <style>\n",
              "                .geemap-dark {\n",
              "                    --jp-widgets-color: white;\n",
              "                    --jp-widgets-label-color: white;\n",
              "                    --jp-ui-font-color1: white;\n",
              "                    --jp-layout-color2: #454545;\n",
              "                    background-color: #383838;\n",
              "                }\n",
              "                    \n",
              "                .geemap-dark .jupyter-button {\n",
              "                    --jp-layout-color3: #383838;\n",
              "                }\n",
              "                \n",
              "                .geemap-colab {\n",
              "                    background-color: var(--colab-primary-surface-color, white);\n",
              "                }\n",
              "                    \n",
              "                .geemap-colab .jupyter-button {\n",
              "                    --jp-layout-color3: var(--colab-primary-surface-color, white);\n",
              "                }\n",
              "            </style>\n",
              "            "
            ]
          },
          "metadata": {}
        }
      ]
    },
    {
      "cell_type": "markdown",
      "source": [
        "### Create an interactive map"
      ],
      "metadata": {
        "id": "fckfB_m4qAtH"
      }
    },
    {
      "cell_type": "code",
      "source": [
        "Map = geemap.Map()\n",
        "Map"
      ],
      "metadata": {
        "id": "ukktWIbOqKkw"
      },
      "execution_count": null,
      "outputs": []
    },
    {
      "cell_type": "markdown",
      "source": [
        "### Define region of interest (ROI)"
      ],
      "metadata": {
        "id": "lvP4WlTXqNq9"
      }
    },
    {
      "cell_type": "code",
      "source": [
        "#roi = ee.FeatureCollection(\"FAO/GAUL_SIMPLIFIED_500m/2015/level1\").filter(\n",
        "#      ee.Filter.eq('ADM1_CODE', 1487)\n",
        "#)\n",
        "#Map.addLayer(roi, {}, 'Assam')\n",
        "#Map.centerObject(roi, 7)"
      ],
      "metadata": {
        "colab": {
          "base_uri": "https://localhost:8080/",
          "height": 17
        },
        "id": "nYFHK_sfrVDe",
        "outputId": "d8b15c42-a3db-41ba-f9cb-7f78ce6d78ef"
      },
      "execution_count": 7,
      "outputs": [
        {
          "output_type": "display_data",
          "data": {
            "text/plain": [
              "<IPython.core.display.HTML object>"
            ],
            "text/html": [
              "\n",
              "            <style>\n",
              "                .geemap-dark {\n",
              "                    --jp-widgets-color: white;\n",
              "                    --jp-widgets-label-color: white;\n",
              "                    --jp-ui-font-color1: white;\n",
              "                    --jp-layout-color2: #454545;\n",
              "                    background-color: #383838;\n",
              "                }\n",
              "                    \n",
              "                .geemap-dark .jupyter-button {\n",
              "                    --jp-layout-color3: #383838;\n",
              "                }\n",
              "                \n",
              "                .geemap-colab {\n",
              "                    background-color: var(--colab-primary-surface-color, white);\n",
              "                }\n",
              "                    \n",
              "                .geemap-colab .jupyter-button {\n",
              "                    --jp-layout-color3: var(--colab-primary-surface-color, white);\n",
              "                }\n",
              "            </style>\n",
              "            "
            ]
          },
          "metadata": {}
        }
      ]
    },
    {
      "cell_type": "code",
      "source": [
        "roi = ee.FeatureCollection(\"FAO/GAUL_SIMPLIFIED_500m/2015/level2\").filter(\n",
        "       ee.Filter.eq('ADM2_NAME', 'Lakhimpur')\n",
        ")\n",
        "Map.addLayer(roi, {}, 'Lakhimpur')\n",
        "Map.centerObject(roi, 7)\n"
      ],
      "metadata": {
        "id": "Cif3Y7MUqRB2"
      },
      "execution_count": null,
      "outputs": []
    },
    {
      "cell_type": "markdown",
      "source": [
        "### Create Landsat timeseries"
      ],
      "metadata": {
        "id": "edS3UIg4t45i"
      }
    },
    {
      "cell_type": "code",
      "source": [
        "images = geemap.landsat_timeseries(\n",
        "    roi=roi, start_year=1984, end_year=2020, start_date=\"01-01\", end_date=\"12-31\"\n",
        ")"
      ],
      "metadata": {
        "id": "Z_yFriWxt8S5"
      },
      "execution_count": null,
      "outputs": []
    },
    {
      "cell_type": "code",
      "source": [
        "first = images.first()\n",
        "\n",
        "vis_params = {\"bands\": [\"NIR\", \"Red\", \"Green\"], \"min\": 0, \"max\": 3000}\n",
        "\n",
        "Map.addLayer(first, vis_params, \"First image\")"
      ],
      "metadata": {
        "id": "o85hz_6FuAZm"
      },
      "execution_count": null,
      "outputs": []
    },
    {
      "cell_type": "markdown",
      "source": [
        "### Calculate Normalized Difference Water Index (NDWI)"
      ],
      "metadata": {
        "id": "-AIHCUaBuCiu"
      }
    },
    {
      "cell_type": "code",
      "source": [
        "ndwi_images = images.map(\n",
        "    lambda img: img.normalizedDifference([\"Green\", \"SWIR1\"]).rename(\"ndwi\")\n",
        ")\n",
        "\n",
        "ndwi_palette = [\n",
        "    \"#ece7f2\",\n",
        "    \"#d0d1e6\",\n",
        "    \"#a6bddb\",\n",
        "    \"#74a9cf\",\n",
        "    \"#3690c0\",\n",
        "    \"#0570b0\",\n",
        "    \"#045a8d\",\n",
        "    \"#023858\",\n",
        "]\n",
        "\n",
        "first_ndwi = ndwi_images.first()\n",
        "\n",
        "Map.addLayer(first_ndwi, {\"palette\": ndwi_palette}, \"First NDWI\")"
      ],
      "metadata": {
        "colab": {
          "base_uri": "https://localhost:8080/",
          "height": 17
        },
        "id": "7Zxoi8h6uFZ3",
        "outputId": "1dc452a3-ccac-4c60-f824-1424cb466a07"
      },
      "execution_count": 20,
      "outputs": [
        {
          "output_type": "display_data",
          "data": {
            "text/plain": [
              "<IPython.core.display.HTML object>"
            ],
            "text/html": [
              "\n",
              "            <style>\n",
              "                .geemap-dark {\n",
              "                    --jp-widgets-color: white;\n",
              "                    --jp-widgets-label-color: white;\n",
              "                    --jp-ui-font-color1: white;\n",
              "                    --jp-layout-color2: #454545;\n",
              "                    background-color: #383838;\n",
              "                }\n",
              "                    \n",
              "                .geemap-dark .jupyter-button {\n",
              "                    --jp-layout-color3: #383838;\n",
              "                }\n",
              "                \n",
              "                .geemap-colab {\n",
              "                    background-color: var(--colab-primary-surface-color, white);\n",
              "                }\n",
              "                    \n",
              "                .geemap-colab .jupyter-button {\n",
              "                    --jp-layout-color3: var(--colab-primary-surface-color, white);\n",
              "                }\n",
              "            </style>\n",
              "            "
            ]
          },
          "metadata": {}
        }
      ]
    },
    {
      "cell_type": "markdown",
      "source": [
        "### Extract surface water extent"
      ],
      "metadata": {
        "id": "Vhg-pMibuJc_"
      }
    },
    {
      "cell_type": "code",
      "source": [
        "water_images = ndwi_images.map(lambda img: img.gt(0).selfMask())\n",
        "\n",
        "first_water = water_images.first()\n",
        "\n",
        "Map.addLayer(first_water, {\"palette\": [\"blue\"]}, \"First Water\")"
      ],
      "metadata": {
        "id": "fr51u4V0uMo-"
      },
      "execution_count": null,
      "outputs": []
    },
    {
      "cell_type": "markdown",
      "source": [
        "### Calculate surface water areas"
      ],
      "metadata": {
        "id": "r8LrxfL8uOuO"
      }
    },
    {
      "cell_type": "code",
      "source": [
        "def cal_area(img):\n",
        "    pixel_area = img.multiply(ee.Image.pixelArea()).divide(1e6)\n",
        "    img_area = pixel_area.reduceRegion(\n",
        "        **{\n",
        "            \"geometry\": roi.geometry(),\n",
        "            \"reducer\": ee.Reducer.sum(),\n",
        "            \"scale\": 1000,\n",
        "            \"maxPixels\": 1e12,\n",
        "        }\n",
        "    )\n",
        "    return img.set({\"water_area\": img_area})"
      ],
      "metadata": {
        "id": "8Nnabc6puRi-"
      },
      "execution_count": null,
      "outputs": []
    },
    {
      "cell_type": "code",
      "source": [
        "water_areas = water_images.map(cal_area)"
      ],
      "metadata": {
        "id": "eGIMq63NuUR2"
      },
      "execution_count": null,
      "outputs": []
    },
    {
      "cell_type": "code",
      "source": [
        "water_stats = water_areas.aggregate_array(\"water_area\").getInfo()\n",
        "water_stats"
      ],
      "metadata": {
        "id": "HVpfFHXiuVB2"
      },
      "execution_count": null,
      "outputs": []
    },
    {
      "cell_type": "markdown",
      "source": [
        "### Plot temporal trend"
      ],
      "metadata": {
        "id": "FTLUEEd8uYZu"
      }
    },
    {
      "cell_type": "code",
      "source": [
        "import matplotlib.pyplot as plt\n",
        "\n",
        "x = list(range(1984, 2021))\n",
        "y = [item.get(\"ndwi\") for item in water_stats]\n",
        "\n",
        "plt.bar(x, y, align=\"center\", alpha=0.5)\n",
        "# plt.xticks(y_pos, objects)\n",
        "plt.ylabel(\"Area (km2)\")\n",
        "plt.title(\"Surface water dynamics in Tennessee\")\n",
        "\n",
        "plt.show()"
      ],
      "metadata": {
        "id": "MmfHaGcduanP"
      },
      "execution_count": null,
      "outputs": []
    },
    {
      "cell_type": "code",
      "source": [
        "Map.addLayerControl()\n",
        "Map"
      ],
      "metadata": {
        "id": "EL77owd3udl2"
      },
      "execution_count": null,
      "outputs": []
    }
  ]
}